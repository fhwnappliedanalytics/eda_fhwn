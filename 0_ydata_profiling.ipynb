{
 "cells": [
  {
   "metadata": {},
   "cell_type": "code",
   "source": "%pip install ydata-profiling==4.12.2",
   "id": "68d04e9caadd7088",
   "outputs": [],
   "execution_count": null
  },
  {
   "metadata": {},
   "cell_type": "markdown",
   "source": [
    "# Pandas Profiling\n",
    "\n",
    "Generates profile reports from a pandas DataFrame.\n",
    "\n",
    "The pandas df.describe() function is great but a little basic for serious exploratory data analysis. pandas_profiling extends the pandas DataFrame with df.profile_report() for quick data analysis.\n",
    "\n"
   ],
   "id": "297ce799c94a41ab"
  },
  {
   "metadata": {},
   "cell_type": "code",
   "source": [
    "from pathlib import Path\n",
    "\n",
    "import pandas as pd\n",
    "\n",
    "from ydata_profiling import ProfileReport\n",
    "\n",
    "df = pd.read_csv('data/bankdata.csv', sep=\",\")\n",
    "\n",
    "profile = ProfileReport(\n",
    "    df, title=\"Report Banking Dataset\", explorative=True\n",
    ")"
   ],
   "id": "5c12822291f9031f",
   "outputs": [],
   "execution_count": null
  },
  {
   "metadata": {},
   "cell_type": "code",
   "source": "profile.to_file(\"bankdata_report.html\")",
   "id": "6a4f88d5af5d3025",
   "outputs": [],
   "execution_count": null
  },
  {
   "metadata": {},
   "cell_type": "code",
   "source": "profile",
   "id": "af4c04bc3045e0b8",
   "outputs": [],
   "execution_count": null
  },
  {
   "metadata": {},
   "cell_type": "markdown",
   "source": [
    "## Command line usage\n",
    "For standard formatted CSV files (which can be read directly by pandas without additional settings), the ydata_profiling executable can be used in the command line. The example below generates a report named Example Profiling Report, using a configuration file called default.yaml, in the file report.html by processing a data.csv dataset."
   ],
   "id": "931c71110f41d505"
  },
  {
   "metadata": {},
   "cell_type": "markdown",
   "source": [
    "```\n",
    "ydata_profiling --title \"Example Profiling Report\" --config_file default.yaml data.csv report.html\n",
    "Information about all available options and arguments can be viewed through the command below. The CLI allows defining input and output filenames, setting a custom report title, specifying a configuration file for custom behaviour <../advanced_usage/changing_settings>{.interpreted-text role=\"doc\"} and control other advanced aspects of the experience.\n",
    "```"
   ],
   "id": "48185ab574821648"
  },
  {
   "metadata": {},
   "cell_type": "markdown",
   "source": [
    "## Options available in CLI\n",
    "\n",
    "`ydata_profiling -h`\n",
    "\n",
    "The contents, behaviour and appearance of the report are easily customizable. The example below used the explorative mode, a lightweight data profiling option.\n",
    "\n",
    "\n",
    "profile = ProfileReport(df, title=\"Profiling Report\", explorative=True)\n",
    "On the CLI utility ydata_profiling, this mode can be activated with the -e flag. Learn more about configuring ydata-profiling on the ../advanced_usage/available_settings."
   ],
   "id": "d6187b7cc6f99781"
  }
 ],
 "metadata": {
  "kernelspec": {
   "display_name": "Python 3",
   "language": "python",
   "name": "python3"
  },
  "language_info": {
   "codemirror_mode": {
    "name": "ipython",
    "version": 2
   },
   "file_extension": ".py",
   "mimetype": "text/x-python",
   "name": "python",
   "nbconvert_exporter": "python",
   "pygments_lexer": "ipython2",
   "version": "2.7.6"
  }
 },
 "nbformat": 4,
 "nbformat_minor": 5
}
