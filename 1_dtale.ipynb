{
 "cells": [
  {
   "cell_type": "markdown",
   "id": "1a2fe3570a4ef8fb",
   "metadata": {
    "collapsed": false
   },
   "source": [
    "## D-Tale\n",
    "D-Tale is an open-source Python library that’s used for data analysis and visualization. It’s a tool that’s designed to help you get a detailed EDA of your data. D-Tale also has a feature that allows you to export the code for every plot or analysis in the report.\n",
    "\n",
    "\n",
    "D-Tale was inspired by the awesome Python package, Pandas Profiling. Its goal is to bring the same type of analysis that Pandas Profiling provided, but in a more interactive and configurable manner. D-Tale also provides some of the awesome benefits that come with using React and Flask together (i.e. Flask can manage your JS dependencies, React can handle rendering on the front-end).\n",
    "\n",
    "\n",
    "GitHub: https://github.com/man-group/dtale"
   ]
  },
  {
   "metadata": {},
   "cell_type": "code",
   "source": [
    "# Install dtale\n",
    "!pip install dtale"
   ],
   "id": "db03fb9e228ef881",
   "outputs": [],
   "execution_count": null
  },
  {
   "metadata": {},
   "cell_type": "code",
   "source": [
    "import pandas as pd\n",
    "import dtale\n",
    "\n",
    "df = pd.read_csv('data/bankdata.csv')\n",
    "\n",
    "dtale.show(df)\n"
   ],
   "id": "93fb74696825d837",
   "outputs": [],
   "execution_count": null
  }
 ],
 "metadata": {
  "kernelspec": {
   "display_name": "Python 3 (ipykernel)",
   "language": "python",
   "name": "python3"
  },
  "language_info": {
   "codemirror_mode": {
    "name": "ipython",
    "version": 3
   },
   "file_extension": ".py",
   "mimetype": "text/x-python",
   "name": "python",
   "nbconvert_exporter": "python",
   "pygments_lexer": "ipython3",
   "version": "3.11.7"
  }
 },
 "nbformat": 4,
 "nbformat_minor": 5
}
