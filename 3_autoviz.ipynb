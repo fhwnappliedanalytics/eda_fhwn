{
 "cells": [
  {
   "cell_type": "markdown",
   "metadata": {
    "tags": [],
    "source_hash": "9cb97d6b",
    "execution_start": 1652212332761,
    "execution_millis": 5,
    "deepnote_cell_height": 211.96875,
    "deepnote_to_be_reexecuted": false,
    "cell_id": "44b292cf7200420085c4ab26ba92555b",
    "deepnote_cell_type": "markdown"
   },
   "source": "## Autoviz\nLoad any dataset (any CSV or text file) into a Pandas dataframe or give the name of the path and filename you want to visualize. If you don't have a filename, you can simply assign the filename argument \"\" (empty string).\n\nCall AutoViz using the filename (or dataframe) along with the separator and the name of the target variable in the input.",
   "block_group": "3a6a42aa3258407389d660ce6d293851"
  },
  {
   "cell_type": "code",
   "metadata": {
    "tags": [],
    "source_hash": null,
    "execution_start": 1713201813890,
    "execution_millis": 1985,
    "deepnote_to_be_reexecuted": false,
    "cell_id": "d8228e8e43e14963b3f417ec5f75029a",
    "deepnote_cell_type": "code"
   },
   "source": "from autoviz.AutoViz_Class import AutoViz_Class\n\nAV = AutoViz_Class()\n%matplotlib inline",
   "block_group": "411bdf66ac304409b00eada0f448b066",
   "outputs_reference": "dbtable:cell_outputs/92a64bff-e557-4d76-9b47-8550ba1a0fb9",
   "content_dependencies": null,
   "outputs": [],
   "execution_count": null
  },
  {
   "cell_type": "code",
   "metadata": {
    "source_hash": null,
    "execution_start": 1713201818951,
    "execution_millis": 47,
    "deepnote_to_be_reexecuted": false,
    "cell_id": "5e93c1ae60fc4333a2ff9026f3ed7a5e",
    "deepnote_cell_type": "code"
   },
   "source": "import matplotlib.cm\ncmap = matplotlib.cm.get_cmap('Reds')",
   "block_group": "d60523d378aa4f758d7786c3585ab347",
   "outputs_reference": null,
   "content_dependencies": null,
   "outputs": [],
   "execution_count": null
  },
  {
   "cell_type": "code",
   "metadata": {
    "tags": [],
    "source_hash": null,
    "owner_user_id": "c91d1f14-b388-42ed-83d0-8dc3faed0018",
    "execution_start": 1713201821383,
    "execution_millis": 6962,
    "deepnote_to_be_reexecuted": false,
    "cell_id": "a3908cce5198424e8917a2258a871024",
    "deepnote_cell_type": "code"
   },
   "source": [
    "filename = \"data/bankdata.csv\"\n",
    "sep = \",\"\n",
    "dft = AV.AutoViz(\n",
    "    filename,\n",
    "    sep=\",\",\n",
    "    depVar=\"\",\n",
    "    dfte=None,\n",
    "    header=0,\n",
    "    verbose=0,\n",
    "    lowess=False,\n",
    "    chart_format=\"svg\",\n",
    "    max_rows_analyzed=150000,\n",
    "    max_cols_analyzed=30,\n",
    "    save_plot_dir='./plots/'\n",
    ")"
   ],
   "block_group": "2ef762456d7f4e9fb2b19450d6d916ca",
   "outputs_reference": "s3:deepnote-cell-outputs-production/9f652a28-1e12-44fd-ad47-57fbdbba65b7",
   "content_dependencies": null,
   "outputs": [],
   "execution_count": null
  }
 ],
 "nbformat": 4,
 "nbformat_minor": 0,
 "metadata": {
  "deepnote_persisted_session": {
   "createdAt": "2024-03-11T02:21:42.616Z"
  },
  "deepnote_notebook_id": "a87379f8f27d4eabb31118e701a3142f",
  "kernelspec": {
   "name": "python3",
   "language": "python",
   "display_name": "Python 3 (ipykernel)"
  }
 }
}
